{
 "cells": [
  {
   "cell_type": "code",
   "execution_count": null,
   "metadata": {},
   "outputs": [],
   "source": [
    "#I generate my own dataset within this code (rather than loading it from an external source)"
   ]
  },
  {
   "cell_type": "code",
   "execution_count": 2,
   "metadata": {},
   "outputs": [],
   "source": [
    "import random\n",
    "import numpy as np\n",
    "import tensorflow as tf\n",
    "from tensorflow import keras"
   ]
  },
  {
   "cell_type": "code",
   "execution_count": 3,
   "metadata": {},
   "outputs": [],
   "source": [
    "def make_matrix(grid_size=3):\n",
    "\tmatriks = [0 for x in range (0, grid_size ** 2)]\n",
    "\tn = random.randint(3,5)\n",
    "\tfor x in range(0,n):\n",
    "\t\ti = random.randint(0, grid_size**2-1)\n",
    "\t\tmatriks[i] = 1-matriks[i]\n",
    "\treturn matriks"
   ]
  },
  {
   "cell_type": "code",
   "execution_count": 4,
   "metadata": {},
   "outputs": [],
   "source": [
    "def eval_matrix(matriks, corruption=0.0, grid_size=3):\n",
    "\tevaluation = False\n",
    "\tfor i in range(0, grid_size):\n",
    "\t\tif eval_row(matriks[i*grid_size:(i+1)*grid_size]):\n",
    "\t\t\tevaluation = True\n",
    "\tif (random.random() < corruption):\n",
    "\t\treturn (not evaluation)\n",
    "\treturn evaluation"
   ]
  },
  {
   "cell_type": "code",
   "execution_count": 5,
   "metadata": {},
   "outputs": [],
   "source": [
    "def eval_row(m_row, des_char=1):\n",
    "\tfor i in range(0, len(m_row)-1):\n",
    "\t\tif (m_row[i] == des_char and m_row[i+1] == des_char):\n",
    "\t\t\treturn True\n",
    "\treturn False\n"
   ]
  },
  {
   "cell_type": "code",
   "execution_count": 6,
   "metadata": {},
   "outputs": [],
   "source": [
    "def make_data(sample_size=10000, corruption=0.0, grid_size=3):\n",
    "\tx_arr = [make_matrix() for x in range(0, sample_size)]\n",
    "\ty_arr = [eval_matrix(x_arr[i], corruption) for i in range(0, sample_size)]\n",
    "\treturn [x_arr, y_arr]"
   ]
  },
  {
   "cell_type": "code",
   "execution_count": 7,
   "metadata": {},
   "outputs": [],
   "source": [
    "def pretty_print(matriks, grid_size=3):\n",
    "\tfor i in range(0, grid_size):\n",
    "\t\ts = \"\"\n",
    "\t\tfor j in range(0, grid_size):\n",
    "\t\t\tif (matriks[i*grid_size+j] == 1):\n",
    "\t\t\t\ts += 'X'\n",
    "\t\t\telse:\n",
    "\t\t\t\ts += '_'\n",
    "\t\tprint(s)\n",
    "\tprint(eval_matrix(matriks, 0.2))"
   ]
  },
  {
   "cell_type": "code",
   "execution_count": 8,
   "metadata": {},
   "outputs": [],
   "source": [
    "def test_printer():\n",
    "\tfor x in range(0, 10):\n",
    "\t\tpretty_print(make_matrix())\n",
    "\t\tprint('')"
   ]
  },
  {
   "cell_type": "code",
   "execution_count": 9,
   "metadata": {},
   "outputs": [],
   "source": [
    "def train_model():\n",
    "\ttrain_data = make_data(10000, 0.2)\n",
    "\ttest_data = make_data(1000)\n",
    "\n",
    "\tmodel = keras.Sequential([\n",
    "\t    keras.layers.Dense(9, activation=tf.nn.relu),\n",
    "\t    keras.layers.Dense(1, activation=tf.nn.sigmoid)\n",
    "\t])\n",
    "\tmodel.compile(optimizer='adam', \n",
    "\t              loss='binary_crossentropy',\n",
    "\t              metrics=['accuracy'])\n",
    "\tmodel.fit(np.array(train_data[0]), np.array(train_data[1]), epochs=50)\n",
    "\tprint('test accuracy:')\n",
    "\ttest_loss, test_acc = model.evaluate(np.array(test_data[0]), np.array(test_data[1]))"
   ]
  },
  {
   "cell_type": "code",
   "execution_count": 10,
   "metadata": {},
   "outputs": [
    {
     "name": "stdout",
     "output_type": "stream",
     "text": [
      "Epoch 1/50\n",
      "313/313 [==============================] - ETA: 0s - loss: 0.6919 - accuracy: 0.54 - 0s 1ms/step - loss: 0.6895 - accuracy: 0.5511\n",
      "Epoch 2/50\n",
      "313/313 [==============================] - 0s 1ms/step - loss: 0.6452 - accuracy: 0.6260\n",
      "Epoch 3/50\n",
      "313/313 [==============================] - 0s 1ms/step - loss: 0.6168 - accuracy: 0.6762\n",
      "Epoch 4/50\n",
      "313/313 [==============================] - 0s 1ms/step - loss: 0.5959 - accuracy: 0.7060\n",
      "Epoch 5/50\n",
      "313/313 [==============================] - 0s 1ms/step - loss: 0.5800 - accuracy: 0.7304\n",
      "Epoch 6/50\n",
      "313/313 [==============================] - 0s 1ms/step - loss: 0.5685 - accuracy: 0.7553\n",
      "Epoch 7/50\n",
      "313/313 [==============================] - 0s 1ms/step - loss: 0.5596 - accuracy: 0.7697\n",
      "Epoch 8/50\n",
      "313/313 [==============================] - 0s 1ms/step - loss: 0.5525 - accuracy: 0.7780\n",
      "Epoch 9/50\n",
      "313/313 [==============================] - 0s 1ms/step - loss: 0.5462 - accuracy: 0.7867\n",
      "Epoch 10/50\n",
      "313/313 [==============================] - 0s 1ms/step - loss: 0.5416 - accuracy: 0.7929: 0s - loss: 0.5440 - accuracy: 0.\n",
      "Epoch 11/50\n",
      "313/313 [==============================] - 0s 1ms/step - loss: 0.5375 - accuracy: 0.7960\n",
      "Epoch 12/50\n",
      "313/313 [==============================] - 1s 2ms/step - loss: 0.5345 - accuracy: 0.7969\n",
      "Epoch 13/50\n",
      "313/313 [==============================] - 0s 1ms/step - loss: 0.5318 - accuracy: 0.7998\n",
      "Epoch 14/50\n",
      "313/313 [==============================] - 0s 1ms/step - loss: 0.5296 - accuracy: 0.7994\n",
      "Epoch 15/50\n",
      "313/313 [==============================] - 0s 1ms/step - loss: 0.5277 - accuracy: 0.7995\n",
      "Epoch 16/50\n",
      "313/313 [==============================] - 0s 1ms/step - loss: 0.5259 - accuracy: 0.8006\n",
      "Epoch 17/50\n",
      "313/313 [==============================] - 0s 1ms/step - loss: 0.5246 - accuracy: 0.8007\n",
      "Epoch 18/50\n",
      "313/313 [==============================] - 0s 1ms/step - loss: 0.5234 - accuracy: 0.8005\n",
      "Epoch 19/50\n",
      "313/313 [==============================] - 0s 1ms/step - loss: 0.5222 - accuracy: 0.8002\n",
      "Epoch 20/50\n",
      "313/313 [==============================] - 0s 1ms/step - loss: 0.5214 - accuracy: 0.8001\n",
      "Epoch 21/50\n",
      "313/313 [==============================] - 0s 1ms/step - loss: 0.5205 - accuracy: 0.8002\n",
      "Epoch 22/50\n",
      "313/313 [==============================] - 0s 1ms/step - loss: 0.5195 - accuracy: 0.8001\n",
      "Epoch 23/50\n",
      "313/313 [==============================] - 0s 1ms/step - loss: 0.5185 - accuracy: 0.7994\n",
      "Epoch 24/50\n",
      "313/313 [==============================] - 0s 1ms/step - loss: 0.5177 - accuracy: 0.7997\n",
      "Epoch 25/50\n",
      "313/313 [==============================] - 0s 1ms/step - loss: 0.5167 - accuracy: 0.8004\n",
      "Epoch 26/50\n",
      "313/313 [==============================] - 0s 1ms/step - loss: 0.5162 - accuracy: 0.7999\n",
      "Epoch 27/50\n",
      "313/313 [==============================] - 0s 1ms/step - loss: 0.5158 - accuracy: 0.8004\n",
      "Epoch 28/50\n",
      "313/313 [==============================] - 0s 1ms/step - loss: 0.5149 - accuracy: 0.8011\n",
      "Epoch 29/50\n",
      "313/313 [==============================] - 0s 1ms/step - loss: 0.5145 - accuracy: 0.8006\n",
      "Epoch 30/50\n",
      "313/313 [==============================] - 0s 1ms/step - loss: 0.5141 - accuracy: 0.8011\n",
      "Epoch 31/50\n",
      "313/313 [==============================] - 0s 1ms/step - loss: 0.5139 - accuracy: 0.8011\n",
      "Epoch 32/50\n",
      "313/313 [==============================] - 1s 2ms/step - loss: 0.5132 - accuracy: 0.8005\n",
      "Epoch 33/50\n",
      "313/313 [==============================] - 1s 2ms/step - loss: 0.5129 - accuracy: 0.8009\n",
      "Epoch 34/50\n",
      "313/313 [==============================] - 1s 2ms/step - loss: 0.5126 - accuracy: 0.8011\n",
      "Epoch 35/50\n",
      "313/313 [==============================] - 0s 1ms/step - loss: 0.5122 - accuracy: 0.7994\n",
      "Epoch 36/50\n",
      "313/313 [==============================] - 1s 2ms/step - loss: 0.5120 - accuracy: 0.8010\n",
      "Epoch 37/50\n",
      "313/313 [==============================] - 0s 1ms/step - loss: 0.5118 - accuracy: 0.8010\n",
      "Epoch 38/50\n",
      "313/313 [==============================] - 1s 3ms/step - loss: 0.5116 - accuracy: 0.8012\n",
      "Epoch 39/50\n",
      "313/313 [==============================] - 1s 2ms/step - loss: 0.5109 - accuracy: 0.8012\n",
      "Epoch 40/50\n",
      "313/313 [==============================] - 0s 1ms/step - loss: 0.5110 - accuracy: 0.8011\n",
      "Epoch 41/50\n",
      "313/313 [==============================] - 0s 896us/step - loss: 0.5109 - accuracy: 0.8009\n",
      "Epoch 42/50\n",
      "313/313 [==============================] - 0s 1ms/step - loss: 0.5105 - accuracy: 0.8013\n",
      "Epoch 43/50\n",
      "313/313 [==============================] - 0s 1ms/step - loss: 0.5105 - accuracy: 0.8010\n",
      "Epoch 44/50\n",
      "313/313 [==============================] - 0s 1ms/step - loss: 0.5103 - accuracy: 0.8010\n",
      "Epoch 45/50\n",
      "313/313 [==============================] - 0s 1ms/step - loss: 0.5102 - accuracy: 0.8011\n",
      "Epoch 46/50\n",
      "313/313 [==============================] - 0s 1ms/step - loss: 0.5100 - accuracy: 0.8012\n",
      "Epoch 47/50\n",
      "313/313 [==============================] - 0s 1ms/step - loss: 0.5099 - accuracy: 0.8012\n",
      "Epoch 48/50\n",
      "313/313 [==============================] - 0s 1ms/step - loss: 0.5100 - accuracy: 0.8011\n",
      "Epoch 49/50\n",
      "313/313 [==============================] - 1s 3ms/step - loss: 0.5094 - accuracy: 0.8013\n",
      "Epoch 50/50\n",
      "313/313 [==============================] - 0s 1ms/step - loss: 0.5098 - accuracy: 0.8011\n",
      "test accuracy:\n",
      "32/32 [==============================] - 0s 838us/step - loss: 0.2638 - accuracy: 1.0000\n"
     ]
    }
   ],
   "source": [
    "train_model()"
   ]
  },
  {
   "cell_type": "code",
   "execution_count": null,
   "metadata": {},
   "outputs": [],
   "source": []
  }
 ],
 "metadata": {
  "kernelspec": {
   "display_name": "Python 3",
   "language": "python",
   "name": "python3"
  },
  "language_info": {
   "codemirror_mode": {
    "name": "ipython",
    "version": 3
   },
   "file_extension": ".py",
   "mimetype": "text/x-python",
   "name": "python",
   "nbconvert_exporter": "python",
   "pygments_lexer": "ipython3",
   "version": "3.8.6"
  }
 },
 "nbformat": 4,
 "nbformat_minor": 4
}
